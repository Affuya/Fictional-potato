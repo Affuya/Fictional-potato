{
  "nbformat": 4,
  "nbformat_minor": 0,
  "metadata": {
    "colab": {
      "name": "Control flow examples.ipynb",
      "provenance": [],
      "collapsed_sections": [],
      "authorship_tag": "ABX9TyPtdt2n3QHEi6txCLtJ+yfa",
      "include_colab_link": true
    },
    "kernelspec": {
      "name": "python3",
      "display_name": "Python 3"
    }
  },
  "cells": [
    {
      "cell_type": "markdown",
      "metadata": {
        "id": "view-in-github",
        "colab_type": "text"
      },
      "source": [
        "<a href=\"https://colab.research.google.com/github/Affuya/Fictional-potato/blob/master/Control_flow_examples.ipynb\" target=\"_parent\"><img src=\"https://colab.research.google.com/assets/colab-badge.svg\" alt=\"Open In Colab\"/></a>"
      ]
    },
    {
      "cell_type": "code",
      "metadata": {
        "id": "xIlCkx-FT7y3",
        "colab_type": "code",
        "outputId": "e4e2fa15-c39e-4a7c-acee-a63bd592ea2d",
        "colab": {
          "base_uri": "https://localhost:8080/",
          "height": 90
        }
      },
      "source": [
        "num1 = int(input('Enter number:  '))\n",
        "num2 = int(input('Enter another number:  '))\n",
        "num3 = int(input('Enter last number:  '))\n",
        "if (num1 >= num2) and (num1 >= num3):\n",
        "  largest = num1\n",
        "elif (num2 >= num1) and (num2 >= num3):\n",
        "  largest = num2\n",
        "else:\n",
        "  largest = num3\n",
        "print('The largest number is' , largest)"
      ],
      "execution_count": 0,
      "outputs": [
        {
          "output_type": "stream",
          "text": [
            "Enter number:  8\n",
            "Enter another number:  87\n",
            "Enter last number:  543\n",
            "The largest number is 543\n"
          ],
          "name": "stdout"
        }
      ]
    },
    {
      "cell_type": "code",
      "metadata": {
        "id": "1nyxdp8YV-tn",
        "colab_type": "code",
        "outputId": "f4173aaa-3b57-49c6-edd4-6e826c3e12d2",
        "colab": {
          "base_uri": "https://localhost:8080/",
          "height": 53
        }
      },
      "source": [
        "year = int(input())\n",
        "if 1900 <= year <= 3000:\n",
        "  if (year % 4) == 0 and (year % 100) != 0:\n",
        "      print('Leap')\n",
        "  \n",
        "  else:\n",
        "    if (year % 400) == 0:\n",
        "      print('Leap')\n",
        "    else:\n",
        "      print('Ordinary')"
      ],
      "execution_count": 0,
      "outputs": [
        {
          "output_type": "stream",
          "text": [
            "2019\n",
            "Ordinary\n"
          ],
          "name": "stdout"
        }
      ]
    },
    {
      "cell_type": "code",
      "metadata": {
        "id": "qAaf97jVZy5r",
        "colab_type": "code",
        "outputId": "cb5e7d85-26b6-4778-dcd7-e34eb5c25de4",
        "colab": {
          "base_uri": "https://localhost:8080/",
          "height": 72
        }
      },
      "source": [
        "#  Read two numbers from the input, not necessarily integers, the first number \n",
        "#  will indicate a position on the X-axis, the second one — on the Y-axis. Let's \n",
        "#  keep referring to the quadrants by Roman numerals, as shown in the picture.\n",
        "#  The points lying on the axes, with either x = 0 or y = 0, and the origin (0, 0) \n",
        "#  will not appear in the tests.\n",
        "\n",
        "x = float(input())\n",
        "y = float(input())\n",
        "if (x and y) > 0:\n",
        "    print('I')\n",
        "elif x < 0 and y > 0:\n",
        "    print('II')\n",
        "elif (x and y) < 0:\n",
        "    print('III')\n",
        "else:\n",
        "    if x > 0 and y < 0:\n",
        "        print('IV')\n"
      ],
      "execution_count": 0,
      "outputs": [
        {
          "output_type": "stream",
          "text": [
            "8.9\n",
            "-98\n",
            "III\n"
          ],
          "name": "stdout"
        }
      ]
    },
    {
      "cell_type": "code",
      "metadata": {
        "id": "-KsZ931rkFYK",
        "colab_type": "code",
        "outputId": "c1d89450-9be2-4b44-8ee7-8a569718d29c",
        "colab": {
          "base_uri": "https://localhost:8080/",
          "height": 90
        }
      },
      "source": [
        "A = int(input())\n",
        "B = int(input())\n",
        "H = int(input())\n",
        "\n",
        "if H > B:\n",
        "    print('Excess')\n",
        "elif H < A:\n",
        "    print('Deficiency')\n",
        "else:\n",
        "    if A <= H < B:\n",
        "        print('Normal')"
      ],
      "execution_count": 128,
      "outputs": [
        {
          "output_type": "stream",
          "text": [
            "7\n",
            "9\n",
            "2\n",
            "Deficiency\n"
          ],
          "name": "stdout"
        }
      ]
    },
    {
      "cell_type": "code",
      "metadata": {
        "id": "GLJmPP4F3Tmc",
        "colab_type": "code",
        "colab": {
          "base_uri": "https://localhost:8080/",
          "height": 53
        },
        "outputId": "40c82dc2-4ac7-4a1b-9b90-0dfee0db7c78"
      },
      "source": [
        "Chicken = 23\n",
        "\n",
        "Goat = 678\n",
        "\n",
        "Pig = 1296\n",
        "\n",
        "Cow = 3848\n",
        "\n",
        "Sheep = 6769\n",
        "\n",
        "cash = int(input())\n",
        "if cash >= Chicken and cash < Goat:\n",
        "    cash //= Chicken\n",
        "    if cash == 1:\n",
        "        print(cash, 'chicken')\n",
        "    else:\n",
        "        print(cash, 'chickens')\n",
        "elif cash >= Goat and cash < Pig:\n",
        "    cash //= Goat\n",
        "    if cash == 1:\n",
        "        print(cash, 'goat')\n",
        "    else:\n",
        "        print(cash, 'goats')\n",
        "elif cash >= Pig and cash < Cow:\n",
        "    cash //= Pig\n",
        "    if cash == 1:\n",
        "        print(cash, 'pig')\n",
        "    else:\n",
        "        print(cash, 'pigs')\n",
        "elif cash >= Cow and cash < Sheep:\n",
        "    cash //= Cow\n",
        "    if cash == 1:\n",
        "        print(cash, 'cow')\n",
        "    else:\n",
        "        print(cash, 'cows')\n",
        "elif cash >= Sheep:\n",
        "    cash //= Sheep\n",
        "    print(cash, 'sheep')\n",
        "else:\n",
        "    print('None')\n"
      ],
      "execution_count": 156,
      "outputs": [
        {
          "output_type": "stream",
          "text": [
            "1500\n",
            "1 pig\n"
          ],
          "name": "stdout"
        }
      ]
    }
  ]
}